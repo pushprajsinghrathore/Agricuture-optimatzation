{
 "cells": [
  {
   "cell_type": "markdown",
   "id": "dc6e0847",
   "metadata": {},
   "source": [
    "# As we all know that agriculture depends largely on the nature of soil and the climatic conditions and many a times, we face unpredictable changes in climate like, non-seasonal rainfall or heat waves or fluctuations in humidity levels, etc. and all such events cause a great loss to our farmers and farming, because of which they are not able to utilize their agricultural land to it's fullest.So to solve all such problems, I have build a Machine Learning Model by the virtue of which we can help farmers, optimize the agricultural production, because this predictive model will help them understand that for a particular soil & given climatic condition, which crop will be best suitable for the harvest.\n",
    "\n",
    "There are 7 key factors that I've taken into account which will help us in determining, exactly which crop should be grown and at what period of time, viz. Amount of Nitrogen, Phosphorus and Potassium in soil, Temperature in degree celcius, Humidity, pH and Rainfall in mm.\n",
    "\n",
    "Tools used: Python & Jupyter Notebook Libraries used: Numpy, Pandas, Seaborn, Matplotlib, ipywidgets and sklearn. Machine Learning Algorithms used: Clustering Analysis and Logistic Regression."
   ]
  },
  {
   "cell_type": "markdown",
   "id": "414dbecf",
   "metadata": {},
   "source": [
    "# Optimizing-Agricultural-Production\n",
    "Problem Statement -\n",
    "Building a Predictive Model so as to suggest the most suitable crops to grow based on the available climatic and soil conditions.\n",
    "\n",
    "Goal -\n",
    "To achieve precision farming by optimizing the agricultural production. The project is intended on Precision Farming.\n",
    "\n",
    "➔ To Optimize Productivity\n",
    "\n",
    "➔ By Understanding requirements of climatic and soil conditions for crops.\n",
    "\n",
    "➔ Helps us to Cope up with weather unpredictability.\n",
    "\n",
    "About The Dataset Used (data.csv) -\n",
    "The Dataset Consists of 22 Unique Crops such as Maize, Wheat, Mango, Watermelon, Mango etc.\n",
    "\n",
    "➔ The dataset consists of climatic conditions required to grow the crops.\n",
    "\n",
    "◆ Temperature, Humidity, Rainfall.\n",
    "\n",
    "➔ The dataset also consists of soil conditions required to grow the crops\n",
    "\n",
    "◆ N: The Ratio of Nitrogen Content in Soil.\n",
    "\n",
    "◆ P: The Ratio of Phosphorus Content in Soil.\n",
    "\n",
    "◆ K: The Ratio of Potassium Content in Soil.\n",
    "\n",
    "◆ pH: pH of the Soil\n",
    "\n",
    "Libraries Used In The Project -\n",
    "● Numpy: Used for Mathematical Operations.\n",
    "\n",
    "● Pandas: Used for DataFrame Operations.\n",
    "\n",
    "● Seaborn and Matplotlib: Used for Data Visualizations.\n",
    "\n",
    "● Ipywidgets: Used for Interactive Analysis.\n",
    "\n",
    "● Sklearn: Used for Machine Learning Algorithms"
   ]
  },
  {
   "cell_type": "code",
   "execution_count": 1,
   "id": "db43d243",
   "metadata": {},
   "outputs": [],
   "source": [
    "# some manipulation\n",
    "import numpy as np\n",
    "import pandas as pd\n",
    "\n",
    "# for data visualizations\n",
    "import matplotlib.pyplot as plt\n",
    "import seaborn as sns\n",
    "\n",
    "# for interactivity\n",
    "from __future__ import print_function\n",
    "from ipywidgets import interact, interactive, fixed, interact_manual\n",
    "import ipywidgets as widgets"
   ]
  },
  {
   "cell_type": "code",
   "execution_count": 2,
   "id": "361c0b8c",
   "metadata": {},
   "outputs": [],
   "source": [
    "#  To read data set\n",
    "data=pd.read_csv('Agriculture data.csv')"
   ]
  },
  {
   "cell_type": "code",
   "execution_count": 3,
   "id": "53c18a7d",
   "metadata": {},
   "outputs": [
    {
     "name": "stdout",
     "output_type": "stream",
     "text": [
      "shape of the Agriculture dataset: (2200, 8)\n"
     ]
    }
   ],
   "source": [
    "#let chek the shape of dataset  2200 row and 8 cloum\n",
    "print('shape of the Agriculture dataset:',data.shape)\n"
   ]
  },
  {
   "cell_type": "code",
   "execution_count": 4,
   "id": "5f8caede",
   "metadata": {},
   "outputs": [
    {
     "data": {
      "text/html": [
       "<div>\n",
       "<style scoped>\n",
       "    .dataframe tbody tr th:only-of-type {\n",
       "        vertical-align: middle;\n",
       "    }\n",
       "\n",
       "    .dataframe tbody tr th {\n",
       "        vertical-align: top;\n",
       "    }\n",
       "\n",
       "    .dataframe thead th {\n",
       "        text-align: right;\n",
       "    }\n",
       "</style>\n",
       "<table border=\"1\" class=\"dataframe\">\n",
       "  <thead>\n",
       "    <tr style=\"text-align: right;\">\n",
       "      <th></th>\n",
       "      <th>Nitrogen</th>\n",
       "      <th>Phosphorus</th>\n",
       "      <th>K(Potassium)</th>\n",
       "      <th>Temperature</th>\n",
       "      <th>Humidity</th>\n",
       "      <th>Ph Value</th>\n",
       "      <th>Rainfall</th>\n",
       "      <th>Crop Name</th>\n",
       "    </tr>\n",
       "  </thead>\n",
       "  <tbody>\n",
       "    <tr>\n",
       "      <th>0</th>\n",
       "      <td>90</td>\n",
       "      <td>42</td>\n",
       "      <td>43</td>\n",
       "      <td>20.879744</td>\n",
       "      <td>82.002744</td>\n",
       "      <td>6.502985</td>\n",
       "      <td>202.935536</td>\n",
       "      <td>rice</td>\n",
       "    </tr>\n",
       "    <tr>\n",
       "      <th>1</th>\n",
       "      <td>85</td>\n",
       "      <td>58</td>\n",
       "      <td>41</td>\n",
       "      <td>21.770462</td>\n",
       "      <td>80.319644</td>\n",
       "      <td>7.038096</td>\n",
       "      <td>226.655537</td>\n",
       "      <td>rice</td>\n",
       "    </tr>\n",
       "    <tr>\n",
       "      <th>2</th>\n",
       "      <td>60</td>\n",
       "      <td>55</td>\n",
       "      <td>44</td>\n",
       "      <td>23.004459</td>\n",
       "      <td>82.320763</td>\n",
       "      <td>7.840207</td>\n",
       "      <td>263.964248</td>\n",
       "      <td>rice</td>\n",
       "    </tr>\n",
       "    <tr>\n",
       "      <th>3</th>\n",
       "      <td>74</td>\n",
       "      <td>35</td>\n",
       "      <td>40</td>\n",
       "      <td>26.491096</td>\n",
       "      <td>80.158363</td>\n",
       "      <td>6.980401</td>\n",
       "      <td>242.864034</td>\n",
       "      <td>rice</td>\n",
       "    </tr>\n",
       "    <tr>\n",
       "      <th>4</th>\n",
       "      <td>78</td>\n",
       "      <td>42</td>\n",
       "      <td>42</td>\n",
       "      <td>20.130175</td>\n",
       "      <td>81.604873</td>\n",
       "      <td>7.628473</td>\n",
       "      <td>262.717340</td>\n",
       "      <td>rice</td>\n",
       "    </tr>\n",
       "  </tbody>\n",
       "</table>\n",
       "</div>"
      ],
      "text/plain": [
       "   Nitrogen  Phosphorus  K(Potassium)  Temperature   Humidity  Ph Value  \\\n",
       "0        90          42            43    20.879744  82.002744  6.502985   \n",
       "1        85          58            41    21.770462  80.319644  7.038096   \n",
       "2        60          55            44    23.004459  82.320763  7.840207   \n",
       "3        74          35            40    26.491096  80.158363  6.980401   \n",
       "4        78          42            42    20.130175  81.604873  7.628473   \n",
       "\n",
       "     Rainfall Crop Name  \n",
       "0  202.935536      rice  \n",
       "1  226.655537      rice  \n",
       "2  263.964248      rice  \n",
       "3  242.864034      rice  \n",
       "4  262.717340      rice  "
      ]
     },
     "execution_count": 4,
     "metadata": {},
     "output_type": "execute_result"
    }
   ],
   "source": [
    "# let chek the head of the dataset use head funcation \n",
    "#it will show starting 5 heads\n",
    "data.head()"
   ]
  },
  {
   "cell_type": "code",
   "execution_count": 5,
   "id": "27000064",
   "metadata": {},
   "outputs": [
    {
     "data": {
      "text/plain": [
       "Nitrogen        0\n",
       "Phosphorus      0\n",
       "K(Potassium)    0\n",
       "Temperature     0\n",
       "Humidity        0\n",
       "Ph Value        0\n",
       "Rainfall        0\n",
       "Crop Name       0\n",
       "dtype: int64"
      ]
     },
     "execution_count": 5,
     "metadata": {},
     "output_type": "execute_result"
    }
   ],
   "source": [
    "# to find a null value in data set use this code\n",
    "data.isnull().sum()"
   ]
  },
  {
   "cell_type": "code",
   "execution_count": 6,
   "id": "e54247ed",
   "metadata": {},
   "outputs": [
    {
     "data": {
      "text/plain": [
       "rice           100\n",
       "maize          100\n",
       "jute           100\n",
       "cotton         100\n",
       "coconut        100\n",
       "papaya         100\n",
       "orange         100\n",
       "apple          100\n",
       "muskmelon      100\n",
       "watermelon     100\n",
       "grapes         100\n",
       "mango          100\n",
       "banana         100\n",
       "pomegranate    100\n",
       "lentil         100\n",
       "blackgram      100\n",
       "mungbean       100\n",
       "mothbeans      100\n",
       "pigeonpeas     100\n",
       "kidneybeans    100\n",
       "chickpea       100\n",
       "coffee         100\n",
       "Name: Crop Name, dtype: int64"
      ]
     },
     "execution_count": 6,
     "metadata": {},
     "output_type": "execute_result"
    }
   ],
   "source": [
    "# to discover the crops in data set use this code\n",
    "data['Crop Name'].value_counts()"
   ]
  },
  {
   "cell_type": "code",
   "execution_count": 7,
   "id": "0364bca6",
   "metadata": {},
   "outputs": [
    {
     "name": "stdout",
     "output_type": "stream",
     "text": [
      "Average ratio of Nitrogen in the soil :50.55\n",
      "Average ratio of Phosphorous in the soil:53.36\n",
      "Average ratio of K(Potassium)in the soil:48.15\n",
      "Average ratio of Temperature in the soil:25.62\n",
      "Average ratio of Humidity in the soil :71.48\n",
      "Average ratio of Ph Value in the soil:6.47\n",
      "Averange ratio of Rainfall in the soil:103.46\n"
     ]
    }
   ],
   "source": [
    "# to find Average cilmatic ,soil requriment And other Average value data set\n",
    "print(\"Average ratio of Nitrogen in the soil :{0:.2f}\".format(data['Nitrogen'].mean()))\n",
    "print('Average ratio of Phosphorous in the soil:{0:.2f}'.format(data['Phosphorus'].mean()))\n",
    "print('Average ratio of K(Potassium)in the soil:{0:.2f}'.format(data['K(Potassium)'].mean()))\n",
    "print('Average ratio of Temperature in the soil:{0:.2f}'.format(data['Temperature'].mean()))\n",
    "print('Average ratio of Humidity in the soil :{0:.2f}'.format(data['Humidity'].mean()))\n",
    "print('Average ratio of Ph Value in the soil:{0:.2f}'.format(data['Ph Value'].mean()))\n",
    "print('Averange ratio of Rainfall in the soil:{0:.2f}'.format(data['Rainfall'].mean()))\n",
    "#print('Averange ratio of Crop Name in the soil:{0:2f}'.format(data['Crop Name'].mean()))"
   ]
  },
  {
   "cell_type": "code",
   "execution_count": 8,
   "id": "dafa08d4",
   "metadata": {},
   "outputs": [
    {
     "data": {
      "application/vnd.jupyter.widget-view+json": {
       "model_id": "2630243429f74fd08c8b9852d5a4b4d0",
       "version_major": 2,
       "version_minor": 0
      },
      "text/plain": [
       "interactive(children=(Dropdown(description='crops', options=('rice', 'maize', 'jute', 'cotton', 'coconut', 'pa…"
      ]
     },
     "metadata": {},
     "output_type": "display_data"
    }
   ],
   "source": [
    "# lets chek the summary  statistica for each crop\n",
    "@interact\n",
    "def summary (crops=list(data['Crop Name'].value_counts().index)):\n",
    "    X = data[data['Crop Name'] == crops]\n",
    "    print(\"------------------------------------------\")\n",
    "    print(\"Statistics for Nitrogen\")\n",
    "    print(\"Minimum Nitrogen requride:\",X['Nitrogen'].min())\n",
    "    print(\"Average Nitrogen requried:\",X['Nitrogen'].mean())\n",
    "    print(\"Maximum Nitrogen required:\",X['Nitrogen'].max())\n",
    "    print(\"-------------------------------------------------\")\n",
    "    print(\"Statistics for Phosphorous\")\n",
    "    print(\"Minimum Phosphorous requride:\",X['Phosphorus'].min())\n",
    "    print(\"Average Phosphorous requried:\",X['Phosphorus'].mean())\n",
    "    print(\"Maximum Phosphorous required:\",X['Phosphorus'].max())\n",
    "    print(\"-------------------------------------------------\")\n",
    "    print(\"Statistics for K(Potassium)\")\n",
    "    print(\"Minimum K(Potassium) requride:\",X['K(Potassium)'].min())\n",
    "    print(\"Average K(Potassium) requried:\",X['K(Potassium)'].mean())\n",
    "    print(\"Maximum K(Potassium) required:\",X['K(Potassium)'].max())\n",
    "    print(\"-------------------------------------------------\")\n",
    "    print(\"Statistics for Temperature\")\n",
    "    print(\"Minimum Temperature requride:\",X['Temperature'].min())\n",
    "    print(\"Average Temperature requried:\",X['Temperature'].mean())\n",
    "    print(\"Maximum Temperature required:\",X['Temperature'].max())\n",
    "    print(\"-------------------------------------------------\")\n",
    "    print(\"Statistics for Humidity\")\n",
    "    print(\"Minimum Humidity requride:\",X['Humidity'].min())\n",
    "    print(\"Average Humidity requried:\",X['Humidity'].mean())\n",
    "    print(\"Maximum Humidity required:\",X['Humidity'].max())\n",
    "    print(\"-------------------------------------------------\")\n",
    "    print(\"Statistics for Ph Value\")\n",
    "    print(\"Minimum Ph Value requride:\",X['Ph Value'].min())\n",
    "    print(\"Average Ph Value requried:\",X['Ph Value'].mean())\n",
    "    print(\"Maximum Ph Value required:\",X['Ph Value'].max())\n",
    "    print(\"-------------------------------------------------\")\n",
    "    print(\"Statistics for Rainfall\")\n",
    "    print(\"Minimum Rainfall requride:\",X['Rainfall'].min())\n",
    "    print(\"Average Rainfall requried:\",X['Rainfall'].mean())\n",
    "    print(\"Maximum Rainfall required:\",X['Rainfall'].max())\n",
    "    print(\"-------------------------------------------------\")\n",
    "    \n",
    "    "
   ]
  },
  {
   "cell_type": "code",
   "execution_count": 9,
   "id": "717f7f83",
   "metadata": {},
   "outputs": [
    {
     "data": {
      "application/vnd.jupyter.widget-view+json": {
       "model_id": "8721313e04e34e1e9c9f0f0753f10d74",
       "version_major": 2,
       "version_minor": 0
      },
      "text/plain": [
       "interactive(children=(Dropdown(description='conditions', options=('Nitrogen', 'Phosphorus', 'K(Potassium)', 'H…"
      ]
     },
     "metadata": {},
     "output_type": "display_data"
    }
   ],
   "source": [
    "#let compare condicatio of  the  average Rquirment Some  Specific  Crops\n",
    "@interact\n",
    "def compare(conditions=['Nitrogen','Phosphorus','K(Potassium)','Humidity','Ph Value','Rainfall','Temperature']):\n",
    "    print(\"Average Value for\",conditions,\"is{0:.2f}\".format(data[conditions].mean()))\n",
    "    print(\"---------------------------------------------------------------------------------------\")\n",
    "    print(\"Rice:{0:.2f}\".format(data[(data['Crop Name'] =='rice')][conditions].mean()))\n",
    "    print(\"Banana:{0:.2f}\".format(data[(data['Crop Name'] =='banana')][conditions].mean()))\n",
    "    print(\"Orange:{0:.2f}\".format(data[(data['Crop Name'] =='orange')][conditions].mean()))\n",
    "    print(\"cotton:{0:.2f}\".format(data[(data['Crop Name'] =='cotton')][conditions].mean()))\n",
    "    print(\"Mango:{0:.2f}\".format(data[(data['Crop Name'] =='mango')][conditions].mean()))\n",
    "    print(\"Coffee:{0:.2f}\".format(data[(data['Crop Name'] =='coffee')][conditions].mean()))\n",
    "    print(\"Papaya:{0:.2f}\".format(data[(data['Crop Name'] =='papaya')][conditions].mean()))\n",
    "    print(\"Watermelon:{0:.2f}\".format(data[(data['Crop Name'] =='watermelon')][conditions].mean()))\n",
    "    print(\"Pomegranate:{0:.2f}\".format(data[(data['Crop Name'] =='pomegranate')][conditions].mean()))\n",
    "    print(\"Grapes:{0:.2f}\".format(data[(data['Crop Name'] =='grapes')][conditions].mean()))\n",
    "    print(\"Maize:{0:.2f}\".format(data[(data['Crop Name'] =='maize')][conditions].mean()))\n",
    "    "
   ]
  },
  {
   "cell_type": "code",
   "execution_count": 10,
   "id": "48a60b36",
   "metadata": {},
   "outputs": [
    {
     "data": {
      "application/vnd.jupyter.widget-view+json": {
       "model_id": "79c4922125ce424db999935ccc18eb16",
       "version_major": 2,
       "version_minor": 0
      },
      "text/plain": [
       "interactive(children=(Dropdown(description='conditions', options=('Nitrogen', 'Phosphorus', 'K(Potassium)', 'H…"
      ]
     },
     "metadata": {},
     "output_type": "display_data"
    }
   ],
   "source": [
    "# let understand to  find some specific crops to  below average, and Above average Climate condication\n",
    "@interact\n",
    "def compare(conditions=['Nitrogen','Phosphorus','K(Potassium)','Humidity','Ph Value','Rainfall','Temperature']):\n",
    "    print(\"Crops which require greater than Average\",conditions, '\\n')\n",
    "    print(data[data[conditions]>data[conditions].mean()]['Crop Name'].unique())\n",
    "    print(\"---------------------------------------------------------------------------\")\n",
    "    print(\"Crops which required less than Average\",conditions, '\\n')\n",
    "    print(data[data[conditions]<= data[conditions].mean()]['Crop Name'].unique())"
   ]
  },
  {
   "cell_type": "code",
   "execution_count": 11,
   "id": "e34ecb85",
   "metadata": {},
   "outputs": [
    {
     "name": "stderr",
     "output_type": "stream",
     "text": [
      "C:\\Users\\LENOVO\\AppData\\Roaming\\Python\\Python39\\site-packages\\seaborn\\distributions.py:2619: FutureWarning: `distplot` is a deprecated function and will be removed in a future version. Please adapt your code to use either `displot` (a figure-level function with similar flexibility) or `histplot` (an axes-level function for histograms).\n",
      "  warnings.warn(msg, FutureWarning)\n",
      "C:\\Users\\LENOVO\\AppData\\Roaming\\Python\\Python39\\site-packages\\seaborn\\distributions.py:2619: FutureWarning: `distplot` is a deprecated function and will be removed in a future version. Please adapt your code to use either `displot` (a figure-level function with similar flexibility) or `histplot` (an axes-level function for histograms).\n",
      "  warnings.warn(msg, FutureWarning)\n",
      "C:\\Users\\LENOVO\\AppData\\Roaming\\Python\\Python39\\site-packages\\seaborn\\distributions.py:2619: FutureWarning: `distplot` is a deprecated function and will be removed in a future version. Please adapt your code to use either `displot` (a figure-level function with similar flexibility) or `histplot` (an axes-level function for histograms).\n",
      "  warnings.warn(msg, FutureWarning)\n",
      "C:\\Users\\LENOVO\\AppData\\Roaming\\Python\\Python39\\site-packages\\seaborn\\distributions.py:2619: FutureWarning: `distplot` is a deprecated function and will be removed in a future version. Please adapt your code to use either `displot` (a figure-level function with similar flexibility) or `histplot` (an axes-level function for histograms).\n",
      "  warnings.warn(msg, FutureWarning)\n",
      "C:\\Users\\LENOVO\\AppData\\Roaming\\Python\\Python39\\site-packages\\seaborn\\distributions.py:2619: FutureWarning: `distplot` is a deprecated function and will be removed in a future version. Please adapt your code to use either `displot` (a figure-level function with similar flexibility) or `histplot` (an axes-level function for histograms).\n",
      "  warnings.warn(msg, FutureWarning)\n",
      "C:\\Users\\LENOVO\\AppData\\Roaming\\Python\\Python39\\site-packages\\seaborn\\distributions.py:2619: FutureWarning: `distplot` is a deprecated function and will be removed in a future version. Please adapt your code to use either `displot` (a figure-level function with similar flexibility) or `histplot` (an axes-level function for histograms).\n",
      "  warnings.warn(msg, FutureWarning)\n",
      "C:\\Users\\LENOVO\\AppData\\Roaming\\Python\\Python39\\site-packages\\seaborn\\distributions.py:2619: FutureWarning: `distplot` is a deprecated function and will be removed in a future version. Please adapt your code to use either `displot` (a figure-level function with similar flexibility) or `histplot` (an axes-level function for histograms).\n",
      "  warnings.warn(msg, FutureWarning)\n"
     ]
    },
    {
     "data": {
      "image/png": "[encoded data removed]",
      "text/plain": [
       "<Figure size 432x288 with 7 Axes>"
      ]
     },
     "metadata": {
      "needs_background": "light"
     },
     "output_type": "display_data"
    }
   ],
   "source": [
    "# Distribution of agriculture condications crops\n",
    "##  like some crops required high ph value and low phosphorous\n",
    "\n",
    "plt.subplot(3,4,1)\n",
    "sns.distplot(data['Nitrogen'], color=\"yellow\")\n",
    "plt.xlabel('Nitrogen', fontsize = 12)\n",
    "plt.grid()\n",
    "\n",
    "plt.subplot(3,4,2)\n",
    "sns.distplot(data['Phosphorus'], color=\"orange\")\n",
    "plt.xlabel('Phosphorous', fontsize = 12)\n",
    "plt.grid()\n",
    "\n",
    "plt.subplot(3,4,3)\n",
    "sns.distplot(data['K(Potassium)'], color=\"darkblue\")\n",
    "plt.xlabel('Pottasium', fontsize = 12)\n",
    "plt.grid()\n",
    "\n",
    "plt.subplot(3,4,4)\n",
    "sns.distplot(data['Temperature'], color=\"black\")\n",
    "plt.xlabel('Temperature', fontsize = 12)\n",
    "plt.grid()\n",
    "\n",
    "plt.subplot(2,4,5)\n",
    "sns.distplot(data['Rainfall'], color=\"grey\")\n",
    "plt.xlabel('Rainfall', fontsize = 12)\n",
    "plt.grid()\n",
    "\n",
    "plt.subplot(2,4,6)\n",
    "sns.distplot(data['Humidity'], color=\"lightgreen\")\n",
    "plt.xlabel('Humidity', fontsize = 12)\n",
    "plt.grid()\n",
    "\n",
    "plt.subplot(2,4,7)\n",
    "sns.distplot(data['Ph Value'], color=\"darkgreen\")\n",
    "plt.xlabel('PH Level', fontsize = 12)\n",
    "plt.grid()\n",
    "\n",
    "plt.suptitle('Distribution for Agricultural Conditions', fontsize = 20)\n",
    "plt.show()\n",
    "\n"
   ]
  },
  {
   "cell_type": "code",
   "execution_count": 12,
   "id": "0be8b7df",
   "metadata": {},
   "outputs": [
    {
     "name": "stdout",
     "output_type": "stream",
     "text": [
      "SOME INTRASTING PATTERN\n",
      "crops which requries very High Ratio of nitrogen content in soil ['cotton']\n",
      "crops which requries very High Ratio of Phosphorus content in soil ['grapes' 'apple']\n",
      "crops which requries very High Ratio of K(Potassium) content in soil ['grapes' 'apple']\n",
      "crops which requries very High Rainfall ['rice' 'papaya' 'coconut']\n",
      "crops which requries very low Temprature ['grapes']\n",
      "crops which requries very high Temprature ['grapes' 'papaya']\n",
      "crops which requries very low Humidity ['chickpea' 'kidneybeans']\n",
      "crops which requries very low Ph value ['mothbeans']\n",
      "crops which requries very High Ph Value ['mothbeans']\n"
     ]
    }
   ],
   "source": [
    "#let Identify crop some sepicific Climent, Nutrants  Condication\n",
    "print(\"SOME INTRASTING PATTERN\")\n",
    "\n",
    "print(\"crops which requries very High Ratio of nitrogen content in soil\",data[data['Nitrogen']>120]['Crop Name'].unique()\n",
    ")\n",
    "print(\"crops which requries very High Ratio of Phosphorus content in soil\",data[data['Phosphorus']>100]['Crop Name'].unique())\n",
    "print(\"crops which requries very High Ratio of K(Potassium) content in soil\",data[data['K(Potassium)']>200]['Crop Name'].unique())\n",
    "print(\"crops which requries very High Rainfall\",data[data['Rainfall']>200]['Crop Name'].unique())\n",
    "print(\"crops which requries very low Temprature\",data[data['Temperature']<10]['Crop Name'].unique())\n",
    "print(\"crops which requries very high Temprature\",data[data['Temperature']>40]['Crop Name'].unique())\n",
    "print(\"crops which requries very low Humidity\",data[data['Humidity']<20]['Crop Name'].unique())\n",
    "\n",
    "print(\"crops which requries very low Ph value\",data[data['Ph Value']<4]['Crop Name'].unique())\n",
    "print(\"crops which requries very High Ph Value\",data[data['Ph Value']>9]['Crop Name'].unique())\n"
   ]
  },
  {
   "cell_type": "code",
   "execution_count": 13,
   "id": "2c21f088",
   "metadata": {},
   "outputs": [
    {
     "name": "stdout",
     "output_type": "stream",
     "text": [
      "Summer Crops\n",
      "['pigeonpeas' 'mothbeans' 'blackgram' 'mango' 'grapes' 'orange' 'papaya']\n",
      "----------------------------------------------------------------------------\n",
      "Winter Crops\n",
      "['maize' 'pigeonpeas' 'lentil' 'pomegranate' 'grapes' 'orange']\n",
      "-------------------------------------------------------------------------------\n",
      "Rainy Crops\n",
      "['rice' 'papaya' 'coconut']\n"
     ]
    }
   ],
   "source": [
    "## Lets find crops which grow seasonal like Winter,Summer,Rainy\n",
    "print(\"Summer Crops\")\n",
    "print(data[(data['Temperature']>30)&(data['Humidity']>50)]['Crop Name'].unique())\n",
    "print(\"----------------------------------------------------------------------------\")\n",
    "print(\"Winter Crops\")\n",
    "print(data[(data['Temperature']<20)&(data['Humidity']>30)]['Crop Name'].unique())\n",
    "print(\"-------------------------------------------------------------------------------\")\n",
    "print(\"Rainy Crops\")\n",
    "print(data[(data['Rainfall']>200)&(data['Humidity']>30)]['Crop Name'].unique())"
   ]
  },
  {
   "cell_type": "markdown",
   "id": "980855ca",
   "metadata": {},
   "source": [
    "# to ues Of Culsturing analysis to find crops to grow in same soil and cilmating  condication\n",
    "x=data.drop mens to remove  crop name colum\n",
    "from sklearn.cluster import KMeans ,   use kara to merange repeted data and show in proper from"
   ]
  },
  {
   "cell_type": "code",
   "execution_count": 14,
   "id": "76cbdf5c",
   "metadata": {},
   "outputs": [
    {
     "name": "stdout",
     "output_type": "stream",
     "text": [
      "(2200, 7)\n"
     ]
    }
   ],
   "source": [
    "# to ues Of Culsturing analysis to find crops to grow in same soil and cilmating  condication\n",
    "from sklearn.cluster import KMeans\n",
    "\n",
    "#removing the labels column\n",
    "x = data.drop(['Crop Name'], axis=1)\n",
    "\n",
    "#selecting all the values of data\n",
    "x = x.values\n",
    "\n",
    "#checking the shape\n",
    "print(x.shape)\n"
   ]
  },
  {
   "cell_type": "code",
   "execution_count": 15,
   "id": "22c27587",
   "metadata": {},
   "outputs": [
    {
     "data": {
      "text/plain": [
       "<function matplotlib.pyplot.show(close=None, block=None)>"
      ]
     },
     "execution_count": 15,
     "metadata": {},
     "output_type": "execute_result"
    },
    {
     "data": {
      "image/png": "[encoded data removed]",
      "text/plain": [
       "<Figure size 720x288 with 1 Axes>"
      ]
     },
     "metadata": {
      "needs_background": "light"
     },
     "output_type": "display_data"
    }
   ],
   "source": [
    "#Determining the optimum number of clusters within the Dataset\n",
    "\n",
    "plt.rcParams['figure.figsize'] = (10,4)\n",
    "\n",
    "wcss = []\n",
    "for i in range(1,11):\n",
    "    km = KMeans(n_clusters = i, init = 'k-means++', max_iter = 2000, n_init = 10, random_state = 0)\n",
    "    km.fit(x)\n",
    "    wcss.append(km.inertia_)\n",
    "    \n",
    "#Plotting the results\n",
    "\n",
    "plt.plot(range(1,11), wcss)\n",
    "plt.title('Elbow Method', fontsize = 20)\n",
    "plt.xlabel('No of Clusters')\n",
    "plt.ylabel('wcss')\n",
    "plt.show\n",
    "# in this digram total 3 elbow was plot\n",
    "####\n",
    "#first 2 sec 3 third is 4 total 4 culster is there jo last me \n",
    "#number ata he utne he cluster hote he\n",
    "#######"
   ]
  },
  {
   "cell_type": "markdown",
   "id": "9d280f46",
   "metadata": {},
   "source": [
    "# lets implement The K Means algortiham  to perform clustering analysis\n",
    "with help of this code we under stand the crops pattern \n",
    "like some crops are grow in same soil and same cilmate \n",
    "so with help of this code we defined the four of crops "
   ]
  },
  {
   "cell_type": "code",
   "execution_count": 16,
   "id": "b65b94f9",
   "metadata": {},
   "outputs": [
    {
     "name": "stdout",
     "output_type": "stream",
     "text": [
      "Lets Check the results after applying K Means Clustering Analysis \n",
      "\n",
      "Crops in First Cluster: ['maize' 'chickpea' 'kidneybeans' 'pigeonpeas' 'mothbeans' 'mungbean'\n",
      " 'blackgram' 'lentil' 'pomegranate' 'mango' 'orange' 'papaya' 'coconut']\n",
      "...........................................\n",
      "Crops in Second Cluster: ['maize' 'banana' 'watermelon' 'muskmelon' 'papaya' 'cotton' 'coffee']\n",
      "...........................................\n",
      "Crops in Third Cluster: ['grapes' 'apple']\n",
      "...........................................\n",
      "Crops in Fourth Cluster: ['rice' 'pigeonpeas' 'papaya' 'coconut' 'jute' 'coffee']\n"
     ]
    }
   ],
   "source": [
    "# lets implement The K Means algortiham  to perform clustering analysis\n",
    "km = KMeans(n_clusters = 4, init = 'k-means++',  max_iter = 2000, n_init = 10, random_state = 0)\n",
    "y_means = km.fit_predict(x)\n",
    "\n",
    "#Finding the results\n",
    "a = data['Crop Name']\n",
    "y_means = pd.DataFrame(y_means)\n",
    "z = pd.concat([y_means, a], axis = 1)\n",
    "z = z.rename(columns = {0: 'cluster'})\n",
    "\n",
    "#Checking the clusters for each crop\n",
    "# we marge the crops with help of k mens culster and to find th crops which \n",
    "# grow in soam cilmate and soil condication\n",
    "print(\"Lets Check the results after applying K Means Clustering Analysis \\n\")\n",
    "print(\"Crops in First Cluster:\", z[z['cluster'] == 0]['Crop Name'].unique())\n",
    "print(\"...........................................\")\n",
    "print(\"Crops in Second Cluster:\", z[z['cluster'] == 1]['Crop Name'].unique())\n",
    "print(\"...........................................\")\n",
    "print(\"Crops in Third Cluster:\", z[z['cluster'] == 2]['Crop Name'].unique())\n",
    "print(\"...........................................\")\n",
    "print(\"Crops in Fourth Cluster:\", z[z['cluster'] == 3]['Crop Name'].unique())\n"
   ]
  },
  {
   "cell_type": "markdown",
   "id": "ec840f37",
   "metadata": {},
   "source": [
    "# we have create a prdicative modele to train the data set this  model is createtd  with help of ML \n",
    "Evlutaion matrix is use to  anlayis the model performance and genrate  trust regrading model\n",
    "evluation model give you accurence score\n",
    "we use logistic regression algoritham"
   ]
  },
  {
   "cell_type": "markdown",
   "id": "a28a4f63",
   "metadata": {},
   "source": [
    "# why remove lables in data set\n",
    "ans= because lables cheat the data set and give acurrance so we romove lables in data set"
   ]
  },
  {
   "cell_type": "code",
   "execution_count": 33,
   "id": "b37d2a3a",
   "metadata": {},
   "outputs": [
    {
     "name": "stdout",
     "output_type": "stream",
     "text": [
      "Shape of x: (2200, 7)\n",
      "Shape of y: (2200,)\n"
     ]
    }
   ],
   "source": [
    "#Splitting the Dataset for predictive modelling   (lables= Crop Name)\n",
    "\n",
    "y = data['Crop Name']  #  labes mens tha name of crops \n",
    "x = data.drop(['Crop Name'], axis=1) # x ke ander hum all condications like temp humidity rainfall etc\n",
    "# we remove crops name \n",
    "print(\"Shape of x:\", x.shape)\n",
    "print(\"Shape of y:\", y.shape)\n"
   ]
  },
  {
   "cell_type": "markdown",
   "id": "467d9d6c",
   "metadata": {},
   "source": [
    "# we create traning set and testing set in data \n",
    "and help of testing set we check model accurancy\n",
    "\n",
    "out put train: 1760,7\n",
    "out put testing: 440,7  why this out put \n",
    "because  we  use 80:20  ratio for traning and testing  data  80% data go tarning and 20 for testing "
   ]
  },
  {
   "cell_type": "code",
   "execution_count": 18,
   "id": "33b57fd1",
   "metadata": {},
   "outputs": [
    {
     "name": "stdout",
     "output_type": "stream",
     "text": [
      "The Shape Of x train: (1760, 7)\n",
      "The Shape Of x test: (440, 7)\n",
      "The Shape Of y train: (1760,)\n",
      "The Shape Of y test: (440,)\n"
     ]
    }
   ],
   "source": [
    "#Creating training and testing sets for results validation\n",
    "from sklearn.model_selection import train_test_split\n",
    "\n",
    "x_train, x_test, y_train, y_test = train_test_split(x, y, test_size = 0.2, random_state = 0)\n",
    "\n",
    "print(\"The Shape Of x train:\", x_train.shape)\n",
    "print(\"The Shape Of x test:\", x_test.shape)\n",
    "print(\"The Shape Of y train:\", y_train.shape)\n",
    "print(\"The Shape Of y test:\", y_test.shape)"
   ]
  },
  {
   "cell_type": "code",
   "execution_count": null,
   "id": "904df7b7",
   "metadata": {},
   "outputs": [],
   "source": []
  },
  {
   "cell_type": "code",
   "execution_count": 34,
   "id": "97efda73",
   "metadata": {},
   "outputs": [
    {
     "name": "stderr",
     "output_type": "stream",
     "text": [
      "C:\\Users\\LENOVO\\AppData\\Roaming\\Python\\Python39\\site-packages\\sklearn\\linear_model\\_logistic.py:814: ConvergenceWarning: lbfgs failed to converge (status=1):\n",
      "STOP: TOTAL NO. of ITERATIONS REACHED LIMIT.\n",
      "\n",
      "Increase the number of iterations (max_iter) or scale the data as shown in:\n",
      "    https://scikit-learn.org/stable/modules/preprocessing.html\n",
      "Please also refer to the documentation for alternative solver options:\n",
      "    https://scikit-learn.org/stable/modules/linear_model.html#logistic-regression\n",
      "  n_iter_i = _check_optimize_result(\n"
     ]
    }
   ],
   "source": [
    "#Creating a Predictive Model\n",
    "\n",
    "from sklearn.linear_model import LogisticRegression\n",
    "\n",
    "model = LogisticRegression()\n",
    "model.fit(x_train, y_train)\n",
    "y_pred = model.predict(x_test)"
   ]
  },
  {
   "cell_type": "code",
   "execution_count": 42,
   "id": "ffe41786",
   "metadata": {},
   "outputs": [
    {
     "data": {
      "image/png": "[encoded data removed]",
      "text/plain": [
       "<Figure size 720x864 with 2 Axes>"
      ]
     },
     "metadata": {
      "needs_background": "light"
     },
     "output_type": "display_data"
    }
   ],
   "source": [
    "#Evaluating the model performance\n",
    "from sklearn.metrics import confusion_matrix\n",
    "\n",
    "#Printing the Confusing Matrix\n",
    "plt.rcParams['figure.figsize'] = (10,12)\n",
    "cm = confusion_matrix(y_test, y_pred)\n",
    "sns.heatmap(cm, annot = True, cmap = 'Wistia')\n",
    "plt.title('Confusion Matrix For Logistic Regression', fontsize = 12)\n",
    "plt.show()"
   ]
  },
  {
   "cell_type": "code",
   "execution_count": 25,
   "id": "e38d4a11",
   "metadata": {},
   "outputs": [
    {
     "name": "stdout",
     "output_type": "stream",
     "text": [
      "              precision    recall  f1-score   support\n",
      "\n",
      "       apple       1.00      1.00      1.00        18\n",
      "      banana       1.00      1.00      1.00        18\n",
      "   blackgram       0.86      0.82      0.84        22\n",
      "    chickpea       1.00      1.00      1.00        23\n",
      "     coconut       1.00      1.00      1.00        15\n",
      "      coffee       1.00      1.00      1.00        17\n",
      "      cotton       0.89      1.00      0.94        16\n",
      "      grapes       1.00      1.00      1.00        18\n",
      "        jute       0.84      1.00      0.91        21\n",
      " kidneybeans       1.00      1.00      1.00        20\n",
      "      lentil       0.94      0.94      0.94        17\n",
      "       maize       0.94      0.89      0.91        18\n",
      "       mango       1.00      1.00      1.00        21\n",
      "   mothbeans       0.88      0.92      0.90        25\n",
      "    mungbean       1.00      1.00      1.00        17\n",
      "   muskmelon       1.00      1.00      1.00        23\n",
      "      orange       1.00      1.00      1.00        23\n",
      "      papaya       1.00      0.95      0.98        21\n",
      "  pigeonpeas       1.00      1.00      1.00        22\n",
      " pomegranate       1.00      1.00      1.00        23\n",
      "        rice       1.00      0.84      0.91        25\n",
      "  watermelon       1.00      1.00      1.00        17\n",
      "\n",
      "    accuracy                           0.97       440\n",
      "   macro avg       0.97      0.97      0.97       440\n",
      "weighted avg       0.97      0.97      0.97       440\n",
      "\n"
     ]
    }
   ],
   "source": [
    "#Defining the classification Report\n",
    "from sklearn.metrics import classification_report\n",
    "\n",
    "#Printing the Classification Report\n",
    "cr = classification_report(y_test, y_pred)\n",
    "print(cr)"
   ]
  },
  {
   "cell_type": "code",
   "execution_count": 26,
   "id": "57953cd4",
   "metadata": {},
   "outputs": [
    {
     "data": {
      "text/html": [
       "<div>\n",
       "<style scoped>\n",
       "    .dataframe tbody tr th:only-of-type {\n",
       "        vertical-align: middle;\n",
       "    }\n",
       "\n",
       "    .dataframe tbody tr th {\n",
       "        vertical-align: top;\n",
       "    }\n",
       "\n",
       "    .dataframe thead th {\n",
       "        text-align: right;\n",
       "    }\n",
       "</style>\n",
       "<table border=\"1\" class=\"dataframe\">\n",
       "  <thead>\n",
       "    <tr style=\"text-align: right;\">\n",
       "      <th></th>\n",
       "      <th>Nitrogen</th>\n",
       "      <th>Phosphorus</th>\n",
       "      <th>K(Potassium)</th>\n",
       "      <th>Temperature</th>\n",
       "      <th>Humidity</th>\n",
       "      <th>Ph Value</th>\n",
       "      <th>Rainfall</th>\n",
       "      <th>Crop Name</th>\n",
       "    </tr>\n",
       "  </thead>\n",
       "  <tbody>\n",
       "    <tr>\n",
       "      <th>0</th>\n",
       "      <td>90</td>\n",
       "      <td>42</td>\n",
       "      <td>43</td>\n",
       "      <td>20.879744</td>\n",
       "      <td>82.002744</td>\n",
       "      <td>6.502985</td>\n",
       "      <td>202.935536</td>\n",
       "      <td>rice</td>\n",
       "    </tr>\n",
       "    <tr>\n",
       "      <th>1</th>\n",
       "      <td>85</td>\n",
       "      <td>58</td>\n",
       "      <td>41</td>\n",
       "      <td>21.770462</td>\n",
       "      <td>80.319644</td>\n",
       "      <td>7.038096</td>\n",
       "      <td>226.655537</td>\n",
       "      <td>rice</td>\n",
       "    </tr>\n",
       "    <tr>\n",
       "      <th>2</th>\n",
       "      <td>60</td>\n",
       "      <td>55</td>\n",
       "      <td>44</td>\n",
       "      <td>23.004459</td>\n",
       "      <td>82.320763</td>\n",
       "      <td>7.840207</td>\n",
       "      <td>263.964248</td>\n",
       "      <td>rice</td>\n",
       "    </tr>\n",
       "    <tr>\n",
       "      <th>3</th>\n",
       "      <td>74</td>\n",
       "      <td>35</td>\n",
       "      <td>40</td>\n",
       "      <td>26.491096</td>\n",
       "      <td>80.158363</td>\n",
       "      <td>6.980401</td>\n",
       "      <td>242.864034</td>\n",
       "      <td>rice</td>\n",
       "    </tr>\n",
       "    <tr>\n",
       "      <th>4</th>\n",
       "      <td>78</td>\n",
       "      <td>42</td>\n",
       "      <td>42</td>\n",
       "      <td>20.130175</td>\n",
       "      <td>81.604873</td>\n",
       "      <td>7.628473</td>\n",
       "      <td>262.717340</td>\n",
       "      <td>rice</td>\n",
       "    </tr>\n",
       "  </tbody>\n",
       "</table>\n",
       "</div>"
      ],
      "text/plain": [
       "   Nitrogen  Phosphorus  K(Potassium)  Temperature   Humidity  Ph Value  \\\n",
       "0        90          42            43    20.879744  82.002744  6.502985   \n",
       "1        85          58            41    21.770462  80.319644  7.038096   \n",
       "2        60          55            44    23.004459  82.320763  7.840207   \n",
       "3        74          35            40    26.491096  80.158363  6.980401   \n",
       "4        78          42            42    20.130175  81.604873  7.628473   \n",
       "\n",
       "     Rainfall Crop Name  \n",
       "0  202.935536      rice  \n",
       "1  226.655537      rice  \n",
       "2  263.964248      rice  \n",
       "3  242.864034      rice  \n",
       "4  262.717340      rice  "
      ]
     },
     "execution_count": 26,
     "metadata": {},
     "output_type": "execute_result"
    }
   ],
   "source": [
    "#head of dataset\n",
    "data.head()\n"
   ]
  },
  {
   "cell_type": "code",
   "execution_count": 29,
   "id": "3902dc83",
   "metadata": {},
   "outputs": [
    {
     "name": "stdout",
     "output_type": "stream",
     "text": [
      "The Suggested Crop for given climatic condition is : ['rice']\n"
     ]
    },
    {
     "name": "stderr",
     "output_type": "stream",
     "text": [
      "C:\\Users\\LENOVO\\AppData\\Roaming\\Python\\Python39\\site-packages\\sklearn\\base.py:450: UserWarning: X does not have valid feature names, but LogisticRegression was fitted with feature names\n",
      "  warnings.warn(\n"
     ]
    }
   ],
   "source": [
    "prediction = model.predict((np.array([[90, 40, 40, 20, 80, 7, 200]])))\n",
    "print(\"The Suggested Crop for given climatic condition is :\",prediction)"
   ]
  }
 ],
 "metadata": {
  "kernelspec": {
   "display_name": "Python 3 (ipykernel)",
   "language": "python",
   "name": "python3"
  },
  "language_info": {
   "codemirror_mode": {
    "name": "ipython",
    "version": 3
   },
   "file_extension": ".py",
   "mimetype": "text/x-python",
   "name": "python",
   "nbconvert_exporter": "python",
   "pygments_lexer": "ipython3",
   "version": "3.9.7"
  }
 },
 "nbformat": 4,
 "nbformat_minor": 5
}
